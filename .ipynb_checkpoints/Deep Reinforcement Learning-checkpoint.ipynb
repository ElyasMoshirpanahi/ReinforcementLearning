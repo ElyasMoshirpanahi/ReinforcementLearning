{
 "cells": [
  {
   "cell_type": "markdown",
   "id": "964ffd22",
   "metadata": {
    "heading_collapsed": true
   },
   "source": [
    "### Imports"
   ]
  },
  {
   "cell_type": "code",
   "execution_count": 6,
   "id": "69b7bfd8",
   "metadata": {
    "hidden": true
   },
   "outputs": [],
   "source": [
    "import gym\n",
    "import random\n",
    "import warnings\n",
    "warnings.filterwarnings('ignore')"
   ]
  },
  {
   "cell_type": "markdown",
   "id": "22b80bfb",
   "metadata": {
    "heading_collapsed": true
   },
   "source": [
    "### Creating the gym"
   ]
  },
  {
   "cell_type": "code",
   "execution_count": 2,
   "id": "b32ccd0b",
   "metadata": {
    "hidden": true
   },
   "outputs": [
    {
     "name": "stdout",
     "output_type": "stream",
     "text": [
      "\u001b[33mWARN: gym.spaces.Box autodetected dtype as <class 'numpy.float32'>. Please provide explicit dtype.\u001b[0m\n"
     ]
    }
   ],
   "source": [
    "env = gym.make('CartPole-v0')\n",
    "states=env.observation_space.shape[0]\n",
    "actions=env.action_space.n"
   ]
  },
  {
   "cell_type": "code",
   "execution_count": 4,
   "id": "0418821a",
   "metadata": {
    "code_folding": [
     0
    ],
    "hidden": true
   },
   "outputs": [
    {
     "name": "stdout",
     "output_type": "stream",
     "text": [
      "Episode:1 Score:26.0\n",
      "Episode:2 Score:11.0\n",
      "Episode:3 Score:11.0\n",
      "Episode:4 Score:11.0\n",
      "Episode:5 Score:26.0\n",
      "Episode:6 Score:23.0\n",
      "Episode:7 Score:42.0\n",
      "Episode:8 Score:36.0\n",
      "Episode:9 Score:17.0\n",
      "Episode:10 Score:13.0\n"
     ]
    }
   ],
   "source": [
    "#Testing random episodes\n",
    "episodes = 10\n",
    "\n",
    "for episodes in range(1,episodes+1):\n",
    "    state = env.reset()\n",
    "    done  = False\n",
    "    score = 0\n",
    "    \n",
    "    while not done:\n",
    "        env.render()\n",
    "        action = random.choice([0,1])\n",
    "        n_state , reward , done, info = env.step(action)\n",
    "        score+=reward\n",
    "    print('Episode:{} Score:{}'.format(episodes,score))"
   ]
  },
  {
   "cell_type": "markdown",
   "id": "e464f4ab",
   "metadata": {},
   "source": [
    "### Deep Reinforcement Learning NN"
   ]
  },
  {
   "cell_type": "markdown",
   "id": "630e2f14",
   "metadata": {},
   "source": [
    "##### Keras Model"
   ]
  },
  {
   "cell_type": "code",
   "execution_count": 7,
   "id": "518e7b1d",
   "metadata": {},
   "outputs": [],
   "source": [
    "import numpy as np\n",
    "from tensorflow.keras.models import Sequential\n",
    "from tensorflow.keras.layers import Dense , Flatten\n",
    "from tensorflow.keras.optimizers import Adam"
   ]
  },
  {
   "cell_type": "code",
   "execution_count": 8,
   "id": "ee4f5d7f",
   "metadata": {
    "code_folding": [
     0
    ]
   },
   "outputs": [],
   "source": [
    "def build_model(states,actions):\n",
    "    \"\"\"\n",
    "    build_model(states:int,actions:int)->Sequential:\n",
    "    Builds a neural network model with a specified number of states and actions. The model consists of a flatten layer, two dense layers with 24 units each and ReLU activation, and a final dense layer with linear activation.\n",
    "    Parameters:\n",
    "    states (int): number of states for the model\n",
    "    actions (int): number of actions for the model\n",
    "    Returns:\n",
    "    model (Sequential): the neural network model\n",
    "    \"\"\"\n",
    "    model=Sequential()\n",
    "    model.add(Flatten(input_shape=(1,states)))\n",
    "    model.add(Dense(units=24,activation='relu'))\n",
    "    model.add(Dense(units=24,activation='relu'))\n",
    "    model.add(Dense(units=actions,activation='linear'))\n",
    "    return model"
   ]
  },
  {
   "cell_type": "markdown",
   "id": "950460bb",
   "metadata": {},
   "source": [
    "##### Keras-reinforcement learning Model"
   ]
  },
  {
   "cell_type": "code",
   "execution_count": 9,
   "id": "ef02d7d9",
   "metadata": {},
   "outputs": [],
   "source": [
    "from rl.agents import DQNAgent\n",
    "from rl.policy import BoltzmannQPolicy\n",
    "from rl.memory import SequentialMemory"
   ]
  },
  {
   "cell_type": "code",
   "execution_count": 10,
   "id": "d64756f1",
   "metadata": {
    "code_folding": [
     0
    ]
   },
   "outputs": [],
   "source": [
    "def build_agent(model,actions):\n",
    "    \"\"\"\n",
    "    build_agent(model:Sequential,actions:int)->DQNAgent:\n",
    "    Builds a DQN agent with a specified neural network model and number of actions.\n",
    "    The agent is built using a BoltzmannQPolicy, SequentialMemory with a limit of 50000 and window_length of 1, and a target_model_update of 1e-2.\n",
    "    Parameters:\n",
    "    model (Sequential): neural network model\n",
    "    actions (int): number of actions for the agent\n",
    "    Returns:\n",
    "    dqn (DQNAgent): the DQN agent\n",
    "    \"\"\"\n",
    "    policy  = BoltzmannQPolicy()\n",
    "    memory  = SequentialMemory(limit=50000,window_length=1)\n",
    "    dqn     = DQNAgent(model=model,memory=memory,policy = policy,\n",
    "                       nb_actions = actions ,nb_steps_warmup=10,target_model_update=1e-2)\n",
    "    return dqn"
   ]
  },
  {
   "cell_type": "markdown",
   "id": "7ed91ee0",
   "metadata": {
    "heading_collapsed": true
   },
   "source": [
    "### Building the keras model and training the agent"
   ]
  },
  {
   "cell_type": "code",
   "execution_count": null,
   "id": "e3f4bfb1",
   "metadata": {
    "hidden": true
   },
   "outputs": [],
   "source": [
    "build_model()\n",
    "model = build_model(states,actions)\n",
    "model.summary()"
   ]
  },
  {
   "cell_type": "code",
   "execution_count": 13,
   "id": "8660b59a",
   "metadata": {
    "hidden": true
   },
   "outputs": [
    {
     "name": "stdout",
     "output_type": "stream",
     "text": [
      "Training for 50000 steps ...\n",
      "Interval 1 (0 steps performed)\n",
      "10000/10000 [==============================] - 121s 12ms/step - reward: 1.0000\n",
      "95 episodes - episode_reward: 105.211 [9.000, 200.000] - loss: 3.386 - mae: 19.315 - mean_q: 39.009\n",
      "\n",
      "Interval 2 (10000 steps performed)\n",
      "10000/10000 [==============================] - 99s 10ms/step - reward: 1.0000\n",
      "50 episodes - episode_reward: 198.300 [179.000, 200.000] - loss: 5.833 - mae: 38.050 - mean_q: 76.621\n",
      "\n",
      "Interval 3 (20000 steps performed)\n",
      "10000/10000 [==============================] - 95s 10ms/step - reward: 1.0000\n",
      "50 episodes - episode_reward: 199.920 [196.000, 200.000] - loss: 5.418 - mae: 38.743 - mean_q: 77.800\n",
      "\n",
      "Interval 4 (30000 steps performed)\n",
      "10000/10000 [==============================] - 92s 9ms/step - reward: 1.0000\n",
      "51 episodes - episode_reward: 196.020 [164.000, 200.000] - loss: 8.661 - mae: 39.124 - mean_q: 78.431\n",
      "\n",
      "Interval 5 (40000 steps performed)\n",
      "10000/10000 [==============================] - 84s 8ms/step - reward: 1.0000\n",
      "done, took 490.365 seconds\n"
     ]
    },
    {
     "data": {
      "text/plain": [
       "<keras.callbacks.History at 0x2a66f78c430>"
      ]
     },
     "execution_count": 13,
     "metadata": {},
     "output_type": "execute_result"
    }
   ],
   "source": [
    "agent = build_agent(model,actions)\n",
    "agent.compile(Adam(learning_rate=1e-3),metrics=['mae'])\n",
    "agent.fit(env,nb_steps=50000,visualize=False,verbose=1)"
   ]
  },
  {
   "cell_type": "markdown",
   "id": "0bf2c273",
   "metadata": {
    "heading_collapsed": true
   },
   "source": [
    "### Testing the agent"
   ]
  },
  {
   "cell_type": "code",
   "execution_count": 18,
   "id": "ef46c07a",
   "metadata": {
    "collapsed": true,
    "hidden": true
   },
   "outputs": [
    {
     "name": "stdout",
     "output_type": "stream",
     "text": [
      "Testing for 100 episodes ...\n",
      "Episode 1: reward: 200.000, steps: 200\n",
      "Episode 2: reward: 200.000, steps: 200\n",
      "Episode 3: reward: 200.000, steps: 200\n",
      "Episode 4: reward: 200.000, steps: 200\n",
      "Episode 5: reward: 200.000, steps: 200\n",
      "Episode 6: reward: 200.000, steps: 200\n",
      "Episode 7: reward: 200.000, steps: 200\n",
      "Episode 8: reward: 200.000, steps: 200\n",
      "Episode 9: reward: 200.000, steps: 200\n",
      "Episode 10: reward: 200.000, steps: 200\n",
      "Episode 11: reward: 200.000, steps: 200\n",
      "Episode 12: reward: 200.000, steps: 200\n",
      "Episode 13: reward: 200.000, steps: 200\n",
      "Episode 14: reward: 200.000, steps: 200\n",
      "Episode 15: reward: 200.000, steps: 200\n",
      "Episode 16: reward: 200.000, steps: 200\n",
      "Episode 17: reward: 200.000, steps: 200\n",
      "Episode 18: reward: 200.000, steps: 200\n",
      "Episode 19: reward: 200.000, steps: 200\n",
      "Episode 20: reward: 200.000, steps: 200\n",
      "Episode 21: reward: 200.000, steps: 200\n",
      "Episode 22: reward: 200.000, steps: 200\n",
      "Episode 23: reward: 200.000, steps: 200\n",
      "Episode 24: reward: 200.000, steps: 200\n",
      "Episode 25: reward: 200.000, steps: 200\n",
      "Episode 26: reward: 200.000, steps: 200\n",
      "Episode 27: reward: 200.000, steps: 200\n",
      "Episode 28: reward: 200.000, steps: 200\n",
      "Episode 29: reward: 200.000, steps: 200\n",
      "Episode 30: reward: 200.000, steps: 200\n",
      "Episode 31: reward: 200.000, steps: 200\n",
      "Episode 32: reward: 200.000, steps: 200\n",
      "Episode 33: reward: 200.000, steps: 200\n",
      "Episode 34: reward: 200.000, steps: 200\n",
      "Episode 35: reward: 200.000, steps: 200\n",
      "Episode 36: reward: 200.000, steps: 200\n",
      "Episode 37: reward: 200.000, steps: 200\n",
      "Episode 38: reward: 200.000, steps: 200\n",
      "Episode 39: reward: 200.000, steps: 200\n",
      "Episode 40: reward: 200.000, steps: 200\n",
      "Episode 41: reward: 200.000, steps: 200\n",
      "Episode 42: reward: 200.000, steps: 200\n",
      "Episode 43: reward: 200.000, steps: 200\n",
      "Episode 44: reward: 200.000, steps: 200\n",
      "Episode 45: reward: 200.000, steps: 200\n",
      "Episode 46: reward: 200.000, steps: 200\n",
      "Episode 47: reward: 200.000, steps: 200\n",
      "Episode 48: reward: 200.000, steps: 200\n",
      "Episode 49: reward: 200.000, steps: 200\n",
      "Episode 50: reward: 200.000, steps: 200\n",
      "Episode 51: reward: 200.000, steps: 200\n",
      "Episode 52: reward: 200.000, steps: 200\n",
      "Episode 53: reward: 200.000, steps: 200\n",
      "Episode 54: reward: 200.000, steps: 200\n",
      "Episode 55: reward: 200.000, steps: 200\n",
      "Episode 56: reward: 200.000, steps: 200\n",
      "Episode 57: reward: 200.000, steps: 200\n",
      "Episode 58: reward: 200.000, steps: 200\n",
      "Episode 59: reward: 200.000, steps: 200\n",
      "Episode 60: reward: 200.000, steps: 200\n",
      "Episode 61: reward: 200.000, steps: 200\n",
      "Episode 62: reward: 200.000, steps: 200\n",
      "Episode 63: reward: 200.000, steps: 200\n",
      "Episode 64: reward: 200.000, steps: 200\n",
      "Episode 65: reward: 200.000, steps: 200\n",
      "Episode 66: reward: 200.000, steps: 200\n",
      "Episode 67: reward: 200.000, steps: 200\n",
      "Episode 68: reward: 200.000, steps: 200\n",
      "Episode 69: reward: 200.000, steps: 200\n",
      "Episode 70: reward: 200.000, steps: 200\n",
      "Episode 71: reward: 200.000, steps: 200\n",
      "Episode 72: reward: 200.000, steps: 200\n",
      "Episode 73: reward: 200.000, steps: 200\n",
      "Episode 74: reward: 200.000, steps: 200\n",
      "Episode 75: reward: 200.000, steps: 200\n",
      "Episode 76: reward: 200.000, steps: 200\n",
      "Episode 77: reward: 200.000, steps: 200\n",
      "Episode 78: reward: 200.000, steps: 200\n",
      "Episode 79: reward: 200.000, steps: 200\n",
      "Episode 80: reward: 200.000, steps: 200\n",
      "Episode 81: reward: 200.000, steps: 200\n",
      "Episode 82: reward: 200.000, steps: 200\n",
      "Episode 83: reward: 200.000, steps: 200\n",
      "Episode 84: reward: 200.000, steps: 200\n",
      "Episode 85: reward: 200.000, steps: 200\n",
      "Episode 86: reward: 200.000, steps: 200\n",
      "Episode 87: reward: 200.000, steps: 200\n",
      "Episode 88: reward: 200.000, steps: 200\n",
      "Episode 89: reward: 200.000, steps: 200\n",
      "Episode 90: reward: 200.000, steps: 200\n",
      "Episode 91: reward: 200.000, steps: 200\n",
      "Episode 92: reward: 200.000, steps: 200\n",
      "Episode 93: reward: 200.000, steps: 200\n",
      "Episode 94: reward: 200.000, steps: 200\n",
      "Episode 95: reward: 200.000, steps: 200\n",
      "Episode 96: reward: 200.000, steps: 200\n",
      "Episode 97: reward: 200.000, steps: 200\n",
      "Episode 98: reward: 200.000, steps: 200\n",
      "Episode 99: reward: 200.000, steps: 200\n",
      "Episode 100: reward: 200.000, steps: 200\n",
      "200.0\n"
     ]
    }
   ],
   "source": [
    "scores = agent.test(env,nb_episodes  =100  , visualize=False)\n",
    "print(np.mean(scores.history['episode_reward']))"
   ]
  },
  {
   "cell_type": "code",
   "execution_count": 19,
   "id": "6990a7ca",
   "metadata": {
    "hidden": true,
    "scrolled": true
   },
   "outputs": [
    {
     "name": "stdout",
     "output_type": "stream",
     "text": [
      "Testing for 10 episodes ...\n",
      "Episode 1: reward: 200.000, steps: 200\n",
      "Episode 2: reward: 200.000, steps: 200\n",
      "Episode 3: reward: 200.000, steps: 200\n",
      "Episode 4: reward: 200.000, steps: 200\n",
      "Episode 5: reward: 200.000, steps: 200\n",
      "Episode 6: reward: 200.000, steps: 200\n",
      "Episode 7: reward: 200.000, steps: 200\n",
      "Episode 8: reward: 200.000, steps: 200\n",
      "Episode 9: reward: 200.000, steps: 200\n",
      "Episode 10: reward: 200.000, steps: 200\n"
     ]
    }
   ],
   "source": [
    "_ = agent.test(env,nb_episodes  =10  , visualize=True)"
   ]
  },
  {
   "cell_type": "markdown",
   "id": "a4520edc",
   "metadata": {
    "heading_collapsed": true
   },
   "source": [
    "### Saving the agent"
   ]
  },
  {
   "cell_type": "code",
   "execution_count": 20,
   "id": "bdf5d42f",
   "metadata": {
    "hidden": true
   },
   "outputs": [],
   "source": [
    "agent.save_weights('agent_weights.h5f',overwrite=True)"
   ]
  },
  {
   "cell_type": "code",
   "execution_count": 24,
   "id": "28955a8b",
   "metadata": {
    "hidden": true
   },
   "outputs": [],
   "source": [
    "del model\n",
    "del agent\n",
    "del env"
   ]
  },
  {
   "cell_type": "markdown",
   "id": "9f3c35dd",
   "metadata": {
    "heading_collapsed": true
   },
   "source": [
    "### Reloading the agent"
   ]
  },
  {
   "cell_type": "code",
   "execution_count": 12,
   "id": "17929378",
   "metadata": {
    "hidden": true
   },
   "outputs": [
    {
     "name": "stdout",
     "output_type": "stream",
     "text": [
      "\u001b[33mWARN: gym.spaces.Box autodetected dtype as <class 'numpy.float32'>. Please provide explicit dtype.\u001b[0m\n"
     ]
    }
   ],
   "source": [
    "env = gym.make('CartPole-v0')\n",
    "states=env.observation_space.shape[0]\n",
    "actions=env.action_space.n\n",
    "model = build_model(states,actions)\n",
    "agent = build_agent(model,actions)\n",
    "agent.compile(Adam(learning_rate=1e-3),metrics=['mae'])\n",
    "agent.load_weights('agent_weights.h5f')"
   ]
  },
  {
   "cell_type": "code",
   "execution_count": 13,
   "id": "399de754",
   "metadata": {
    "hidden": true
   },
   "outputs": [
    {
     "name": "stdout",
     "output_type": "stream",
     "text": [
      "Testing for 2 episodes ...\n",
      "Episode 1: reward: 200.000, steps: 200\n",
      "Episode 2: reward: 200.000, steps: 200\n"
     ]
    }
   ],
   "source": [
    "_ = agent.test(env,nb_episodes  =2  , visualize=True)"
   ]
  }
 ],
 "metadata": {
  "kernelspec": {
   "display_name": "Python 3 (ipykernel)",
   "language": "python",
   "name": "python3"
  },
  "language_info": {
   "codemirror_mode": {
    "name": "ipython",
    "version": 3
   },
   "file_extension": ".py",
   "mimetype": "text/x-python",
   "name": "python",
   "nbconvert_exporter": "python",
   "pygments_lexer": "ipython3",
   "version": "3.9.7"
  }
 },
 "nbformat": 4,
 "nbformat_minor": 5
}
